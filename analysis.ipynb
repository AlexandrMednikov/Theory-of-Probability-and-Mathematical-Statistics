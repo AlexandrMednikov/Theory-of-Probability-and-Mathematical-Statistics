{
 "cells": [
  {
   "attachments": {},
   "cell_type": "markdown",
   "metadata": {},
   "source": [
    "Тестирование нововедений в веб магазине"
   ]
  },
  {
   "attachments": {},
   "cell_type": "markdown",
   "metadata": {},
   "source": [
    "Проведение A/B тестирования\n",
    "\n",
    "Были разработаны 2 формата страницы нового продукта для веб площадки. Этот продуки представляет из себя сок натурального производства в коробке обьемом 5 литров и имеет название \"Сады Кукушкина\". Для того, чтобы выяснить какой формат рекламы будет более эфэективен, был поставлен эксперимент. Выборки посетителей веб сайта из 1000 людей был показан случайным образом один из двух форматов.\n",
    "\n",
    "\n",
    "Формат 1 получил 240 заказов на товар\n",
    "\n",
    "Формат 2 получил 216 заказов на товар"
   ]
  },
  {
   "cell_type": "code",
   "execution_count": 75,
   "metadata": {},
   "outputs": [
    {
     "data": {
      "text/plain": [
       "-1.2796697172133276"
      ]
     },
     "execution_count": 75,
     "metadata": {},
     "output_type": "execute_result"
    }
   ],
   "source": [
    "#Проверим гипотезу что вероятность покупки при формате 1 и формате 2 одинаковы\n",
    "\n",
    "from math import sqrt\n",
    "p_A = 240/1000 #формат 1\n",
    "sigma_A =  sqrt(p_A*(1-p_A)/1000)\n",
    "p_B = 216/1000 #формат 2\n",
    "sigma_B =  sqrt(p_B*(1-p_B)/1000)\n",
    "z = (p_B - p_A) / sqrt(sigma_A**2+sigma_B**2)\n",
    "z"
   ]
  },
  {
   "attachments": {},
   "cell_type": "markdown",
   "metadata": {},
   "source": [
    "по таблице это 0,10 итого 2*0,102 = 0,204 тоесть 20.4% вероятность того, что p_A=p_B."
   ]
  },
  {
   "attachments": {},
   "cell_type": "markdown",
   "metadata": {},
   "source": [
    "В тоже время был проведен анализ еще 2 форматов страницы для продукта того же типа но фирмы \"Твоя семья\".\n",
    "\n",
    "Формат 1 получил 310 заказов\n",
    "\n",
    "Формат 1 получил 298 заказов"
   ]
  },
  {
   "cell_type": "code",
   "execution_count": 76,
   "metadata": {},
   "outputs": [
    {
     "data": {
      "text/plain": [
       "-0.5833937690358414"
      ]
     },
     "execution_count": 76,
     "metadata": {},
     "output_type": "execute_result"
    }
   ],
   "source": [
    "p_A = 310/1000 #формат 1\n",
    "sigma_A =  sqrt(p_A*(1-p_A)/1000)\n",
    "p_B = 298/1000 #формат 2\n",
    "sigma_B =  sqrt(p_B*(1-p_B)/1000)\n",
    "z = (p_B - p_A) / sqrt(sigma_A**2+sigma_B**2)\n",
    "z\n"
   ]
  },
  {
   "attachments": {},
   "cell_type": "markdown",
   "metadata": {},
   "source": [
    "по таблице это 0,281 итого 2*0,281 = 0,562 тоесть 56,2% вероятность того, что p_A=p_B .И это уже требует дополнительного анализа. "
   ]
  },
  {
   "cell_type": "code",
   "execution_count": 77,
   "metadata": {},
   "outputs": [],
   "source": [
    "import pandas as pd\n",
    "data_A = pd.read_csv(\"Формат 1.csv\")\n",
    "data_B = pd.read_csv(\"Формат 2.csv\")"
   ]
  },
  {
   "attachments": {},
   "cell_type": "markdown",
   "metadata": {},
   "source": [
    "Это два отчета представляющие из себя 2 столбца. Первый столб показывает количество заказов откликнувшегося человека, а второй сумму. В обоих форматах цена 1 сока стоила 76.34"
   ]
  },
  {
   "cell_type": "code",
   "execution_count": 78,
   "metadata": {},
   "outputs": [
    {
     "data": {
      "text/html": [
       "<div>\n",
       "<style scoped>\n",
       "    .dataframe tbody tr th:only-of-type {\n",
       "        vertical-align: middle;\n",
       "    }\n",
       "\n",
       "    .dataframe tbody tr th {\n",
       "        vertical-align: top;\n",
       "    }\n",
       "\n",
       "    .dataframe thead th {\n",
       "        text-align: right;\n",
       "    }\n",
       "</style>\n",
       "<table border=\"1\" class=\"dataframe\">\n",
       "  <thead>\n",
       "    <tr style=\"text-align: right;\">\n",
       "      <th></th>\n",
       "      <th>Количество</th>\n",
       "      <th>Цена</th>\n",
       "    </tr>\n",
       "  </thead>\n",
       "  <tbody>\n",
       "    <tr>\n",
       "      <th>0</th>\n",
       "      <td>1</td>\n",
       "      <td>76.34</td>\n",
       "    </tr>\n",
       "    <tr>\n",
       "      <th>1</th>\n",
       "      <td>2</td>\n",
       "      <td>152.68</td>\n",
       "    </tr>\n",
       "    <tr>\n",
       "      <th>2</th>\n",
       "      <td>1</td>\n",
       "      <td>76.34</td>\n",
       "    </tr>\n",
       "    <tr>\n",
       "      <th>3</th>\n",
       "      <td>1</td>\n",
       "      <td>76.34</td>\n",
       "    </tr>\n",
       "    <tr>\n",
       "      <th>4</th>\n",
       "      <td>1</td>\n",
       "      <td>76.34</td>\n",
       "    </tr>\n",
       "    <tr>\n",
       "      <th>...</th>\n",
       "      <td>...</td>\n",
       "      <td>...</td>\n",
       "    </tr>\n",
       "    <tr>\n",
       "      <th>305</th>\n",
       "      <td>3</td>\n",
       "      <td>229.02</td>\n",
       "    </tr>\n",
       "    <tr>\n",
       "      <th>306</th>\n",
       "      <td>2</td>\n",
       "      <td>152.68</td>\n",
       "    </tr>\n",
       "    <tr>\n",
       "      <th>307</th>\n",
       "      <td>1</td>\n",
       "      <td>76.34</td>\n",
       "    </tr>\n",
       "    <tr>\n",
       "      <th>308</th>\n",
       "      <td>2</td>\n",
       "      <td>152.68</td>\n",
       "    </tr>\n",
       "    <tr>\n",
       "      <th>309</th>\n",
       "      <td>1</td>\n",
       "      <td>76.34</td>\n",
       "    </tr>\n",
       "  </tbody>\n",
       "</table>\n",
       "<p>310 rows × 2 columns</p>\n",
       "</div>"
      ],
      "text/plain": [
       "     Количество    Цена\n",
       "0             1   76.34\n",
       "1             2  152.68\n",
       "2             1   76.34\n",
       "3             1   76.34\n",
       "4             1   76.34\n",
       "..          ...     ...\n",
       "305           3  229.02\n",
       "306           2  152.68\n",
       "307           1   76.34\n",
       "308           2  152.68\n",
       "309           1   76.34\n",
       "\n",
       "[310 rows x 2 columns]"
      ]
     },
     "execution_count": 78,
     "metadata": {},
     "output_type": "execute_result"
    }
   ],
   "source": [
    "#Вот демонстрация того как это выглядит\n",
    "data_A"
   ]
  },
  {
   "cell_type": "code",
   "execution_count": 79,
   "metadata": {},
   "outputs": [
    {
     "name": "stdout",
     "output_type": "stream",
     "text": [
      "Общая сумма покупок в откликах на A формат 56873.299999999894\n",
      "Общая сумма покупок в откликах на B формат 59621.53999999987\n"
     ]
    }
   ],
   "source": [
    "print(f\"Общая сумма покупок в откликах на A формат {sum(data_A['Цена'])}\")\n",
    "print(f\"Общая сумма покупок в откликах на B формат {sum(data_B['Цена'])}\")\n"
   ]
  },
  {
   "attachments": {},
   "cell_type": "markdown",
   "metadata": {},
   "source": [
    "Значение формата B гораздо весомее. Ведь, имея \n",
    "меньше откликов, прибыль с соков больше."
   ]
  },
  {
   "cell_type": "code",
   "execution_count": 80,
   "metadata": {},
   "outputs": [],
   "source": [
    "#Введем такую функцию чтобы установить доверительный интервал обоих чеков\n",
    "#для каждого формата страницы на веб сайте.\n",
    "def Interval(Mv, Z_Alfa, sigma, n):\n",
    "    \"\"\"\n",
    "    :param Mv: среднее по выборке(мат ожидание выборке)\n",
    "    :param Z_Alfa: Z(Alfa) уже найденый из таблицы ну или от Alfa/2 если распределение нормальное\n",
    "    :param sigma: сигма от Г.с или S если было решение по стьюденту\n",
    "    :param n: Количество в выборке\n",
    "    :return:\n",
    "    \"\"\"\n",
    "    start = Mv-Z_Alfa*(sigma/sqrt(n)) # от\n",
    "    end = Mv+Z_Alfa*(sigma/sqrt(n)) # до\n",
    "    print(f\"[{start}:{end}]\")\n",
    "    return start, end"
   ]
  },
  {
   "cell_type": "code",
   "execution_count": 81,
   "metadata": {},
   "outputs": [
    {
     "name": "stdout",
     "output_type": "stream",
     "text": [
      "[168.16282653180758:198.761689597224]\n"
     ]
    }
   ],
   "source": [
    "#A\n",
    "MA = sum(data_A['Цена'])/310#Мат ожидание\n",
    "sigma_A = sqrt(sum([(i-MA)**2 for i in list(data_A['Цена'])])/310)\n",
    "Alfa = 0.05 # по стьюденту 1.968\n",
    "start_A, end_A = Interval(MA, 1.968, sigma_A, 310)"
   ]
  },
  {
   "cell_type": "code",
   "execution_count": 82,
   "metadata": {},
   "outputs": [
    {
     "name": "stdout",
     "output_type": "stream",
     "text": [
      "[182.2467612510065:217.89780250738193]\n"
     ]
    }
   ],
   "source": [
    "#B\n",
    "MB = sum(data_B['Цена'])/298#Мат ожидание\n",
    "sigma_B = sqrt(sum([(i-MB)**2 for i in list(data_B['Цена'])])/298)\n",
    "Alfa = 0.05 # по стьюденту 1.968\n",
    "start_B, end_B = Interval(MB, 1.968, sigma_B, 298)"
   ]
  },
  {
   "cell_type": "code",
   "execution_count": 83,
   "metadata": {},
   "outputs": [
    {
     "name": "stdout",
     "output_type": "stream",
     "text": [
      "Средний чек в A 183.4622580645158\n",
      "Средний чек в B 200.0722818791942\n"
     ]
    }
   ],
   "source": [
    "print(f\"Средний чек в A {MA}\")\n",
    "print(f\"Средний чек в B {MB}\")"
   ]
  },
  {
   "cell_type": "code",
   "execution_count": 84,
   "metadata": {},
   "outputs": [
    {
     "name": "stdout",
     "output_type": "stream",
     "text": [
      "MB больше на MA 9.05%\n",
      "\n"
     ]
    }
   ],
   "source": [
    "print(f\"MB больше на MA {round(((MB-MA)/MA)*100, 2)}%\")\n",
    "print()"
   ]
  },
  {
   "attachments": {},
   "cell_type": "markdown",
   "metadata": {},
   "source": [
    "Отличие среднего чека возможно не так значимо. Опять нужен дополнительный анализ. Попробуем посмотреть вероятность того что их мат ожидание одинаково."
   ]
  },
  {
   "cell_type": "code",
   "execution_count": 85,
   "metadata": {},
   "outputs": [
    {
     "data": {
      "text/plain": [
       "-0.07993003341155748"
      ]
     },
     "execution_count": 85,
     "metadata": {},
     "output_type": "execute_result"
    }
   ],
   "source": [
    "z = (MA - MB) / sqrt(sigma_A**2+sigma_B**2)\n",
    "z"
   ]
  },
  {
   "attachments": {},
   "cell_type": "markdown",
   "metadata": {},
   "source": [
    "Это по таблице Стьюдента равно 0.214 , значит вероятность того что p_A=p_B по среднему чеку равна (0.214*2)*100=42.8%. Для наглядности посмотрим еще график роста прибыли с одного и другого теста."
   ]
  },
  {
   "cell_type": "code",
   "execution_count": 86,
   "metadata": {},
   "outputs": [],
   "source": [
    "import matplotlib.pyplot as plt\n",
    "\n",
    "astep = []\n",
    "bstep = []\n",
    "aincome = []\n",
    "bincome = []\n",
    "a_all_income = 0\n",
    "b_all_income = 0\n",
    "\n",
    "for i in range(310):\n",
    "    astep.append(i+1)\n",
    "    a_all_income += data_A['Цена'][i]\n",
    "    aincome.append(a_all_income)\n",
    "\n",
    "for i in range(298):\n",
    "    bstep.append(i+1)\n",
    "    b_all_income += data_B['Цена'][i]\n",
    "    bincome.append(b_all_income)\n"
   ]
  },
  {
   "cell_type": "code",
   "execution_count": 87,
   "metadata": {},
   "outputs": [
    {
     "data": {
      "text/plain": [
       "<matplotlib.legend.Legend at 0x185e4c73430>"
      ]
     },
     "execution_count": 87,
     "metadata": {},
     "output_type": "execute_result"
    },
    {
     "data": {
      "image/png": "[encoded data removed]",
      "text/plain": [
       "<Figure size 640x480 with 1 Axes>"
      ]
     },
     "metadata": {},
     "output_type": "display_data"
    }
   ],
   "source": [
    "plt.plot(astep, aincome, label = \"Формат А\")\n",
    "plt.plot(bstep, bincome, label = \"Формат B\")\n",
    "plt.xlabel(\"Заказы\")\n",
    "plt.ylabel(\"Общая прибыль\")\n",
    "plt.legend()"
   ]
  },
  {
   "attachments": {},
   "cell_type": "markdown",
   "metadata": {},
   "source": [
    " Более глубокий анализ помог нам привести к точности наше A/B тестирование и в итоге будет выбран формат 2 для сока \"Твоя семья\". "
   ]
  },
  {
   "cell_type": "code",
   "execution_count": 1,
   "metadata": {},
   "outputs": [],
   "source": [
    "import numpy as np"
   ]
  }
 ],
 "metadata": {
  "kernelspec": {
   "display_name": "Python 3",
   "language": "python",
   "name": "python3"
  },
  "language_info": {
   "codemirror_mode": {
    "name": "ipython",
    "version": 3
   },
   "file_extension": ".py",
   "mimetype": "text/x-python",
   "name": "python",
   "nbconvert_exporter": "python",
   "pygments_lexer": "ipython3",
   "version": "3.10.9"
  },
  "orig_nbformat": 4,
  "vscode": {
   "interpreter": {
    "hash": "cc2a200e1e6dab10c4dc3986f0e7a998296447c993c26561a1bd050a849d8214"
   }
  }
 },
 "nbformat": 4,
 "nbformat_minor": 2
}
